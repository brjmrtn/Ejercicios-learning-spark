{
 "cells": [
  {
   "cell_type": "code",
   "execution_count": 9,
   "id": "8d20a302",
   "metadata": {},
   "outputs": [],
   "source": [
    "import findspark\n",
    "findspark.init()\n",
    "from pyspark.sql import SparkSession\n",
    "import pyspark\n",
    "from pyspark.sql.types import *\n",
    "from pyspark.sql.functions import avg\n",
    "from pyspark.sql import Row\n",
    "from pyspark.sql.functions import col, lit"
   ]
  },
  {
   "cell_type": "code",
   "execution_count": 2,
   "id": "98e5c4cd",
   "metadata": {},
   "outputs": [],
   "source": [
    "spark = SparkSession.builder\\\n",
    "        .master(\"local[*]\")\\\n",
    "        .appName('Chapter3')\\\n",
    "        .getOrCreate()\n",
    "\n",
    "sc = spark.sparkContext"
   ]
  },
  {
   "cell_type": "code",
   "execution_count": null,
   "id": "2d845d14",
   "metadata": {},
   "outputs": [],
   "source": []
  },
  {
   "cell_type": "code",
   "execution_count": null,
   "id": "7d14e15f",
   "metadata": {},
   "outputs": [],
   "source": [
    "# Create an RDD of tuples ( name, age)\n",
    "dataRDD =sc.parallelize([('Brooke', 20), ('Denny', 31), (\"Jules\", 30),\n",
    "                        ('TD', 35), ('Brooke', 25)])\n",
    "\n",
    "# Use map and reduceByKey transformations with their lambda\n",
    "# expressions to aggregate and then compute average\n",
    "\n",
    "agesRRDD = (dataRDD\n",
    "           .map(lambda x : (x[0], (x[1],1)))\n",
    "           .reduceByKey(lambda x, y: (x[0] + y[0], x[1] + y[1]))\n",
    "           .map(lambda x : (x[1][0]/x[1][1])))"
   ]
  },
  {
   "cell_type": "code",
   "execution_count": null,
   "id": "c397bb22",
   "metadata": {},
   "outputs": [],
   "source": []
  },
  {
   "cell_type": "code",
   "execution_count": null,
   "id": "0fa5f7b0",
   "metadata": {},
   "outputs": [],
   "source": []
  },
  {
   "cell_type": "code",
   "execution_count": null,
   "id": "e0e6510c",
   "metadata": {},
   "outputs": [],
   "source": [
    "from pyspark.sql.functions import avg\n",
    "\n",
    "#Create a DataFrame\n",
    "data_df =spark.createDataFrame([('Brooke', 20), ('Denny', 31), (\"Jules\", 30),\n",
    "                        ('TD', 35), ('Brooke', 25)], ['name', 'age'])\n",
    "\n",
    "# Group the same names together, aggregate their ages, and compute an average\n",
    "avg_df = data_df.groupBy('name').agg(avg('age'))\n",
    "# Show the result of the final execution\n",
    "avg_df.show()"
   ]
  },
  {
   "cell_type": "code",
   "execution_count": null,
   "id": "1a7393af",
   "metadata": {},
   "outputs": [],
   "source": [
    "from pyspark.sql.types import *\n",
    "schema = StructType([StructField('author', StringType(), False),\n",
    "                    StructField('title', StringType(), False),\n",
    "                    StructField('pages', StringType(), False)])"
   ]
  },
  {
   "cell_type": "code",
   "execution_count": null,
   "id": "41ca9b26",
   "metadata": {},
   "outputs": [],
   "source": [
    "# DDL schema\n",
    "schema = 'author STRING, title STRING, pages INT'"
   ]
  },
  {
   "cell_type": "code",
   "execution_count": null,
   "id": "4fc62ef5",
   "metadata": {},
   "outputs": [],
   "source": [
    "# Define schema for our data using DDL\n",
    "schema = \"`Id` INT,`First` STRING, `Last` STRING, `Url` STRING, `Published` STRING, `Hits` INT, `Campaings` ARRAY<STRING>\"\n",
    "\n",
    "#Create our static data\n",
    "data = [[1, \"Jules\", \"Damji\", \"https://tinyurl.1\", \"1/4/2016\", 4535, [\"twitter\",\"LinkedIn\"]],\n",
    "        [2, \"Brooke\",\"Wenig\", \"https://tinyurl.2\", \"5/5/2018\", 8908, [\"twitter\",\"LinkedIn\"]],\n",
    "        [3, \"Denny\", \"Lee\", \"https://tinyurl.3\", \"6/7/2019\", 7659, [\"web\", \"twitter\", \"FB\", \"LinkedIn\"]],\n",
    "        [4, \"Tathagata\", \"Das\", \"https://tinyurl.4\", \"5/12/2018\", 10568,[\"twitter\", \"FB\"]],\n",
    "        [5, \"Matei\",\"Zaharia\", \"https://tinyurl.5\", \"5/14/2014\", 40578, [\"web\", \"twitter\", \"FB\", \"LinkedIn\"]],\n",
    "        [6, \"Reynold\", \"Xin\", \"https://tinyurl.6\", \"3/2/2015\", 25568,[\"twitter\", \"LinkedIn\"]]\n",
    "       ]\n",
    "\n",
    "# Main program\n",
    "if __name__ == '__main__':\n",
    "    # Create a SparkSession\n",
    "    spark =   (SparkSession\n",
    "              .builder\n",
    "              .appName('Example-3.6')\n",
    "              .getOrCreate())\n",
    "    #Create a DataFrame using the schema defined above\n",
    "    blogs_df = spark.createDataFrame(data, schema)\n",
    "    # Show the DataFrame: it should reflect our table above\n",
    "    blogs_df.show()\n",
    "    # Print the schema used by Spark to process the DF\n",
    "    print(blogs_df.printSchema())\n",
    "    "
   ]
  },
  {
   "cell_type": "code",
   "execution_count": null,
   "id": "e704b860",
   "metadata": {},
   "outputs": [],
   "source": [
    "blogs_df.schema"
   ]
  },
  {
   "cell_type": "code",
   "execution_count": null,
   "id": "f8739a57",
   "metadata": {},
   "outputs": [],
   "source": [
    "from pyspark.sql import Row\n",
    "blog_row = Row(6, 'Reynold', 'Xin', 'https://tinyurl.6', 255568, '3/2/2015',\n",
    "              ['twitter', 'Linkedin'])\n",
    "# Access using index for individual items\n",
    "blog_row[1]"
   ]
  },
  {
   "cell_type": "code",
   "execution_count": null,
   "id": "9447a8e7",
   "metadata": {},
   "outputs": [],
   "source": [
    "rows = [Row('Matel Zaharta', 'CA'), Row('Reynold Xin', 'CA')]\n",
    "authors_df = spark.createDataFrame(rows, ['Authors', 'State'])"
   ]
  },
  {
   "cell_type": "code",
   "execution_count": null,
   "id": "6b4ff154",
   "metadata": {},
   "outputs": [],
   "source": [
    "authors_df.show()"
   ]
  },
  {
   "cell_type": "code",
   "execution_count": 4,
   "id": "bc436d10",
   "metadata": {},
   "outputs": [],
   "source": [
    "# In Python, define a schema \n",
    "from pyspark.sql.types import *\n",
    "# Programmatic way to define a schema \n",
    "fire_schema = StructType([StructField('CallNumber', IntegerType(), True),\n",
    "                 StructField('UnitID', StringType(), True),\n",
    "                 StructField('IncidentNumber', IntegerType(), True),\n",
    "                 StructField('CallType', StringType(), True), \n",
    "                 StructField('CallDate', StringType(), True), \n",
    "                 StructField('WatchDate', StringType(), True),\n",
    "                 StructField('CallFinalDisposition', StringType(), True),\n",
    "                 StructField('AvailableDtTm', StringType(), True),\n",
    "                 StructField('Address', StringType(), True), \n",
    "                 StructField('City', StringType(), True), \n",
    "                 StructField('Zipcode', IntegerType(), True), \n",
    "                 StructField('Battalion', StringType(), True), \n",
    "                 StructField('StationArea', StringType(), True), \n",
    "                 StructField('Box', StringType(), True), \n",
    "                 StructField('OriginalPriority', StringType(), True), \n",
    "                 StructField('Priority', StringType(), True), \n",
    "                 StructField('FinalPriority', IntegerType(), True), \n",
    "                 StructField('ALSUnit', BooleanType(), True), \n",
    "                 StructField('CallTypeGroup', StringType(), True),\n",
    "                 StructField('NumAlarms', IntegerType(), True),\n",
    "                 StructField('UnitType', StringType(), True),\n",
    "                 StructField('UnitSequenceInCallDispatch', IntegerType(), True),\n",
    "                 StructField('FirePreventionDistrict', StringType(), True),\n",
    "                 StructField('SupervisorDistrict', StringType(), True),\n",
    "                 StructField('Neighborhood', StringType(), True),\n",
    "                 StructField('Location', StringType(), True),\n",
    "                 StructField('RowID', StringType(), True),\n",
    "                 StructField('Delay', FloatType(), True)])\n",
    "\n",
    "# Use the DataFrameReader interface to read a CSV file\n",
    "sf_fire_file = \"data/sf-fire-calls.csv\"\n",
    "fire_df = spark.read.csv(sf_fire_file, header=True, schema=fire_schema)\n",
    "# To save as a Parquet file\n",
    "#parquet_path = 'data/parquet/firep'\n",
    "#fire_df.write(fire_df, parquet_path)\n"
   ]
  },
  {
   "cell_type": "code",
   "execution_count": null,
   "id": "bcd53c4c",
   "metadata": {},
   "outputs": [],
   "source": [
    "# To save a table \n",
    "# parquet_table = 'Fire_table'\n",
    "# fire_df.write.format('parquet').saveAsTable(parquet_table)"
   ]
  },
  {
   "cell_type": "code",
   "execution_count": 10,
   "id": "be9c2cce",
   "metadata": {},
   "outputs": [
    {
     "name": "stdout",
     "output_type": "stream",
     "text": [
      "+--------------+----------------------+--------------+\n",
      "|IncidentNumber|AvailableDtTm         |CallType      |\n",
      "+--------------+----------------------+--------------+\n",
      "|2003235       |01/11/2002 01:51:44 AM|Structure Fire|\n",
      "|2003250       |01/11/2002 04:16:46 AM|Vehicle Fire  |\n",
      "|2003259       |01/11/2002 06:01:58 AM|Alarms        |\n",
      "|2003279       |01/11/2002 08:03:26 AM|Structure Fire|\n",
      "|2003301       |01/11/2002 09:46:44 AM|Alarms        |\n",
      "+--------------+----------------------+--------------+\n",
      "only showing top 5 rows\n",
      "\n"
     ]
    }
   ],
   "source": [
    "few_fire_df = (fire_df\n",
    "              .select('IncidentNumber', 'AvailableDtTm', 'CallType')\n",
    "              .where(col('CallType') != 'Medical Incident'))\n",
    "few_fire_df.show(5, truncate=False)"
   ]
  },
  {
   "cell_type": "code",
   "execution_count": 12,
   "id": "b5520459",
   "metadata": {},
   "outputs": [
    {
     "name": "stdout",
     "output_type": "stream",
     "text": [
      "+-----------------+\n",
      "|DistinctCallTypes|\n",
      "+-----------------+\n",
      "|               30|\n",
      "+-----------------+\n",
      "\n"
     ]
    }
   ],
   "source": [
    "from pyspark.sql.functions import *\n",
    "call_fire= (fire_df\n",
    "            .select('CallType')\n",
    "            .where(col('CallType').isNotNull())\n",
    "            .agg(countDistinct('CallType').alias('DistinctCallTypes'))\n",
    "           )\n",
    "call_fire.show()"
   ]
  },
  {
   "cell_type": "code",
   "execution_count": 13,
   "id": "e0966c17",
   "metadata": {},
   "outputs": [
    {
     "name": "stdout",
     "output_type": "stream",
     "text": [
      "+-----------------------------+\n",
      "|CallType                     |\n",
      "+-----------------------------+\n",
      "|Elevator / Escalator Rescue  |\n",
      "|Marine Fire                  |\n",
      "|Aircraft Emergency           |\n",
      "|Administrative               |\n",
      "|Alarms                       |\n",
      "|Odor (Strange / Unknown)     |\n",
      "|Citizen Assist / Service Call|\n",
      "|HazMat                       |\n",
      "|Watercraft in Distress       |\n",
      "|Explosion                    |\n",
      "+-----------------------------+\n",
      "only showing top 10 rows\n",
      "\n"
     ]
    }
   ],
   "source": [
    "fire_call = (fire_df\n",
    "            .select('CallType')\n",
    "            .where(col('CallType').isNotNull())\n",
    "            .distinct())\n",
    "fire_call.show(10, False)"
   ]
  },
  {
   "cell_type": "code",
   "execution_count": 16,
   "id": "428e69bc",
   "metadata": {},
   "outputs": [
    {
     "name": "stdout",
     "output_type": "stream",
     "text": [
      "+---------------------+\n",
      "|ResponseDelayedinMins|\n",
      "+---------------------+\n",
      "|5.35                 |\n",
      "|6.25                 |\n",
      "|5.2                  |\n",
      "|5.6                  |\n",
      "|7.25                 |\n",
      "+---------------------+\n",
      "only showing top 5 rows\n",
      "\n"
     ]
    }
   ],
   "source": [
    "new_fire_df = fire_df.withColumnRenamed('Delay', 'ResponseDelayedinMins')\n",
    "(new_fire_df\n",
    ".select('ResponseDelayedinMins')\n",
    ".where(col('ResponseDelayedinMins') > 5)\n",
    ".show(5, False))"
   ]
  },
  {
   "cell_type": "code",
   "execution_count": 18,
   "id": "97be8eaf",
   "metadata": {},
   "outputs": [
    {
     "name": "stdout",
     "output_type": "stream",
     "text": [
      "+-------------------+-------------------+-------------------+\n",
      "|IncidentDate       |OnWatchDate        |AvailableDtTS      |\n",
      "+-------------------+-------------------+-------------------+\n",
      "|2002-01-11 00:00:00|2002-01-10 00:00:00|2002-01-11 01:51:44|\n",
      "|2002-01-11 00:00:00|2002-01-10 00:00:00|2002-01-11 03:01:18|\n",
      "|2002-01-11 00:00:00|2002-01-10 00:00:00|2002-01-11 02:39:50|\n",
      "|2002-01-11 00:00:00|2002-01-10 00:00:00|2002-01-11 04:16:46|\n",
      "|2002-01-11 00:00:00|2002-01-10 00:00:00|2002-01-11 06:01:58|\n",
      "+-------------------+-------------------+-------------------+\n",
      "only showing top 5 rows\n",
      "\n"
     ]
    }
   ],
   "source": [
    "fire_ts_df = (new_fire_df\n",
    "             .withColumn('IncidentDate', to_timestamp(col('CallDate'), 'MM/dd/yyyy'))\n",
    "             .drop('CallDate')\n",
    "             .withColumn('OnWatchDate', to_timestamp(col('WatchDate'), 'MM/dd/yyyy'))\n",
    "             .drop('WatchDate')\n",
    "             .withColumn('AvailableDtTS', to_timestamp(col('AvailableDtTm'), 'MM/dd/yyyy hh:mm:ss a'))\n",
    "             .drop('AvailableDtTm'))\n",
    "\n",
    "# Select the converted columns\n",
    "(fire_ts_df\n",
    " .select(\"IncidentDate\", \"OnWatchDate\", \"AvailableDtTS\")\n",
    " .show(5, False))"
   ]
  },
  {
   "cell_type": "code",
   "execution_count": 19,
   "id": "b603de58",
   "metadata": {},
   "outputs": [
    {
     "name": "stdout",
     "output_type": "stream",
     "text": [
      "+------------------+\n",
      "|year(IncidentDate)|\n",
      "+------------------+\n",
      "|              2000|\n",
      "|              2001|\n",
      "|              2002|\n",
      "|              2003|\n",
      "|              2004|\n",
      "|              2005|\n",
      "|              2006|\n",
      "|              2007|\n",
      "|              2008|\n",
      "|              2009|\n",
      "|              2010|\n",
      "|              2011|\n",
      "|              2012|\n",
      "|              2013|\n",
      "|              2014|\n",
      "|              2015|\n",
      "|              2016|\n",
      "|              2017|\n",
      "|              2018|\n",
      "+------------------+\n",
      "\n"
     ]
    }
   ],
   "source": [
    "(fire_ts_df\n",
    ".select(year('IncidentDate'))\n",
    ".distinct()\n",
    ".orderBy(year('IncidentDate'))\n",
    ".show())"
   ]
  },
  {
   "cell_type": "code",
   "execution_count": 20,
   "id": "70e4093e",
   "metadata": {},
   "outputs": [
    {
     "name": "stdout",
     "output_type": "stream",
     "text": [
      "+-------------------------------+------+\n",
      "|CallType                       |count |\n",
      "+-------------------------------+------+\n",
      "|Medical Incident               |113794|\n",
      "|Structure Fire                 |23319 |\n",
      "|Alarms                         |19406 |\n",
      "|Traffic Collision              |7013  |\n",
      "|Citizen Assist / Service Call  |2524  |\n",
      "|Other                          |2166  |\n",
      "|Outside Fire                   |2094  |\n",
      "|Vehicle Fire                   |854   |\n",
      "|Gas Leak (Natural and LP Gases)|764   |\n",
      "|Water Rescue                   |755   |\n",
      "+-------------------------------+------+\n",
      "only showing top 10 rows\n",
      "\n"
     ]
    }
   ],
   "source": [
    "(fire_ts_df\n",
    " .select(\"CallType\")\n",
    " .where(col(\"CallType\").isNotNull())\n",
    " .groupBy(\"CallType\")\n",
    " .count()\n",
    " .orderBy(\"count\", ascending=False)\n",
    " .show(n=10, truncate=False))"
   ]
  },
  {
   "cell_type": "code",
   "execution_count": 21,
   "id": "523e25c9",
   "metadata": {},
   "outputs": [
    {
     "name": "stdout",
     "output_type": "stream",
     "text": [
      "+--------------+--------------------------+--------------------------+--------------------------+\n",
      "|sum(NumAlarms)|avg(ResponseDelayedinMins)|min(ResponseDelayedinMins)|max(ResponseDelayedinMins)|\n",
      "+--------------+--------------------------+--------------------------+--------------------------+\n",
      "|        176170|         3.892364154521585|               0.016666668|                   1844.55|\n",
      "+--------------+--------------------------+--------------------------+--------------------------+\n",
      "\n"
     ]
    }
   ],
   "source": [
    "import pyspark.sql.functions as F\n",
    "(fire_ts_df\n",
    " .select(F.sum(\"NumAlarms\"), F.avg(\"ResponseDelayedinMins\"),F.min(\"ResponseDelayedinMins\"), F.max(\"ResponseDelayedinMins\"))\n",
    " .show())"
   ]
  },
  {
   "cell_type": "code",
   "execution_count": 22,
   "id": "83430977",
   "metadata": {},
   "outputs": [],
   "source": [
    "from pyspark.sql import Row\n",
    "row = Row(350, True, 'Learning Spark 2E', None)\n"
   ]
  },
  {
   "cell_type": "code",
   "execution_count": 23,
   "id": "f4aad756",
   "metadata": {},
   "outputs": [
    {
     "data": {
      "text/plain": [
       "350"
      ]
     },
     "execution_count": 23,
     "metadata": {},
     "output_type": "execute_result"
    }
   ],
   "source": [
    "row[0]"
   ]
  },
  {
   "cell_type": "code",
   "execution_count": 24,
   "id": "9f53c787",
   "metadata": {},
   "outputs": [
    {
     "data": {
      "text/plain": [
       "True"
      ]
     },
     "execution_count": 24,
     "metadata": {},
     "output_type": "execute_result"
    }
   ],
   "source": [
    "row[1]"
   ]
  },
  {
   "cell_type": "code",
   "execution_count": 25,
   "id": "699654b1",
   "metadata": {},
   "outputs": [
    {
     "data": {
      "text/plain": [
       "'Learning Spark 2E'"
      ]
     },
     "execution_count": 25,
     "metadata": {},
     "output_type": "execute_result"
    }
   ],
   "source": [
    "row[2]"
   ]
  },
  {
   "cell_type": "code",
   "execution_count": null,
   "id": "86a6ccc5",
   "metadata": {},
   "outputs": [],
   "source": []
  }
 ],
 "metadata": {
  "kernelspec": {
   "display_name": "Python 3",
   "language": "python",
   "name": "python3"
  },
  "language_info": {
   "codemirror_mode": {
    "name": "ipython",
    "version": 3
   },
   "file_extension": ".py",
   "mimetype": "text/x-python",
   "name": "python",
   "nbconvert_exporter": "python",
   "pygments_lexer": "ipython3",
   "version": "3.8.8"
  }
 },
 "nbformat": 4,
 "nbformat_minor": 5
}
